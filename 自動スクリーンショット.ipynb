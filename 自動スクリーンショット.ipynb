{
 "cells": [
  {
   "cell_type": "markdown",
   "metadata": {},
   "source": [
    "### Sample program for crawling (interactive) "
   ]
  },
  {
   "cell_type": "markdown",
   "metadata": {},
   "source": [
    "#### Import libraries  "
   ]
  },
  {
   "cell_type": "code",
   "execution_count": 1,
   "metadata": {},
   "outputs": [],
   "source": [
    "import os\n",
    "import glob\n",
    "import re\n",
    "import datetime\n",
    "from selenium.webdriver import Chrome, ChromeOptions\n",
    "from selenium.webdriver.common.keys import Keys\n",
    "from selenium.webdriver.common.by import By\n",
    "import chromedriver_binary "
   ]
  },
  {
   "cell_type": "markdown",
   "metadata": {},
   "source": [
    "#### Crawling of HTML  "
   ]
  },
  {
   "cell_type": "code",
   "execution_count": 2,
   "metadata": {},
   "outputs": [
    {
     "name": "stdout",
     "output_type": "stream",
     "text": [
      "G:\\マイドライブ\\バックアップ(OneDrive)\\Onenote\\素材\\機械学習と人工知能\\HTML\\AI-02-pic_4.pptx - Google スライド.html\n",
      "G:\\マイドライブ\\バックアップ(OneDrive)\\Onenote\\素材\\機械学習と人工知能\\HTML\\AI-02-pic_3.pptx - Google スライド.html\n",
      "G:\\マイドライブ\\バックアップ(OneDrive)\\Onenote\\素材\\機械学習と人工知能\\HTML\\AI-02-pic_7.pptx - Google スライド.html\n",
      "G:\\マイドライブ\\バックアップ(OneDrive)\\Onenote\\素材\\機械学習と人工知能\\HTML\\AI-02-pic_6.pptx - Google スライド.html\n",
      "G:\\マイドライブ\\バックアップ(OneDrive)\\Onenote\\素材\\機械学習と人工知能\\HTML\\AI-02-pic_8.pptx - Google スライド.html\n",
      "G:\\マイドライブ\\バックアップ(OneDrive)\\Onenote\\素材\\機械学習と人工知能\\HTML\\AI-01-pic_3.pptx - Google スライド.html\n",
      "G:\\マイドライブ\\バックアップ(OneDrive)\\Onenote\\素材\\機械学習と人工知能\\HTML\\AI-01-pic_4.pptx - Google スライド.html\n",
      "G:\\マイドライブ\\バックアップ(OneDrive)\\Onenote\\素材\\機械学習と人工知能\\HTML\\AI-04-pic_6.pptx - Google スライド.html\n",
      "G:\\マイドライブ\\バックアップ(OneDrive)\\Onenote\\素材\\機械学習と人工知能\\HTML\\AI-04-pic_7.pptx - Google スライド.html\n",
      "G:\\マイドライブ\\バックアップ(OneDrive)\\Onenote\\素材\\機械学習と人工知能\\HTML\\AI-04-pic_8.pptx - Google スライド.html\n",
      "G:\\マイドライブ\\バックアップ(OneDrive)\\Onenote\\素材\\機械学習と人工知能\\HTML\\AI-04-pic_9.pptx - Google スライド.html\n",
      "G:\\マイドライブ\\バックアップ(OneDrive)\\Onenote\\素材\\機械学習と人工知能\\HTML\\AI-04-pic_10.pptx - Google スライド.html\n",
      "G:\\マイドライブ\\バックアップ(OneDrive)\\Onenote\\素材\\機械学習と人工知能\\HTML\\AI-03-pic_6.pptx - Google スライド.html\n",
      "G:\\マイドライブ\\バックアップ(OneDrive)\\Onenote\\素材\\機械学習と人工知能\\HTML\\AI-03-pic_7.pptx - Google スライド.html\n",
      "G:\\マイドライブ\\バックアップ(OneDrive)\\Onenote\\素材\\機械学習と人工知能\\HTML\\AI-04-pic_12.pptx - Google スライド.html\n",
      "G:\\マイドライブ\\バックアップ(OneDrive)\\Onenote\\素材\\機械学習と人工知能\\HTML\\AI-03-pic_3.pptx - Google スライド.html\n",
      "G:\\マイドライブ\\バックアップ(OneDrive)\\Onenote\\素材\\機械学習と人工知能\\HTML\\AI-01-pic_6.pptx - Google スライド.html\n",
      "G:\\マイドライブ\\バックアップ(OneDrive)\\Onenote\\素材\\機械学習と人工知能\\HTML\\AI-03-pic_4.pptx - Google スライド.html\n",
      "G:\\マイドライブ\\バックアップ(OneDrive)\\Onenote\\素材\\機械学習と人工知能\\HTML\\AI-07-pic_4.pptx - Google スライド.html\n",
      "G:\\マイドライブ\\バックアップ(OneDrive)\\Onenote\\素材\\機械学習と人工知能\\HTML\\AI-05-pic_3.pptx - Google スライド.html\n",
      "G:\\マイドライブ\\バックアップ(OneDrive)\\Onenote\\素材\\機械学習と人工知能\\HTML\\AI-05-pic_4.pptx - Google スライド.html\n",
      "G:\\マイドライブ\\バックアップ(OneDrive)\\Onenote\\素材\\機械学習と人工知能\\HTML\\AI-05-pic_6.pptx - Google スライド.html\n",
      "G:\\マイドライブ\\バックアップ(OneDrive)\\Onenote\\素材\\機械学習と人工知能\\HTML\\AI-04-pic_4.pptx - Google スライド.html\n",
      "G:\\マイドライブ\\バックアップ(OneDrive)\\Onenote\\素材\\機械学習と人工知能\\HTML\\AI-04-pic_3.pptx - Google スライド.html\n",
      "G:\\マイドライブ\\バックアップ(OneDrive)\\Onenote\\素材\\機械学習と人工知能\\HTML\\AI-05-pic_7.pptx - Google スライド.html\n",
      "G:\\マイドライブ\\バックアップ(OneDrive)\\Onenote\\素材\\機械学習と人工知能\\HTML\\AI-06-pic_6.pptx - Google スライド.html\n",
      "G:\\マイドライブ\\バックアップ(OneDrive)\\Onenote\\素材\\機械学習と人工知能\\HTML\\AI-06-pic_7.pptx - Google スライド.html\n",
      "G:\\マイドライブ\\バックアップ(OneDrive)\\Onenote\\素材\\機械学習と人工知能\\HTML\\AI-07-pic_7.pptx - Google スライド.html\n",
      "G:\\マイドライブ\\バックアップ(OneDrive)\\Onenote\\素材\\機械学習と人工知能\\HTML\\AI-07-pic_8.pptx - Google スライド.html\n",
      "G:\\マイドライブ\\バックアップ(OneDrive)\\Onenote\\素材\\機械学習と人工知能\\HTML\\AI-06-pic_4.pptx - Google スライド.html\n",
      "G:\\マイドライブ\\バックアップ(OneDrive)\\Onenote\\素材\\機械学習と人工知能\\HTML\\AI-06-pic_3.pptx - Google スライド.html\n",
      "G:\\マイドライブ\\バックアップ(OneDrive)\\Onenote\\素材\\機械学習と人工知能\\HTML\\AI-07-pic_3.pptx - Google スライド.html\n",
      "G:\\マイドライブ\\バックアップ(OneDrive)\\Onenote\\素材\\機械学習と人工知能\\HTML\\AI-07-pic_9.pptx - Google スライド.html\n",
      "G:\\マイドライブ\\バックアップ(OneDrive)\\Onenote\\素材\\機械学習と人工知能\\HTML\\AI-07-pic_6.pptx - Google スライド.html\n",
      "G:\\マイドライブ\\バックアップ(OneDrive)\\Onenote\\素材\\機械学習と人工知能\\HTML\\AI-10-pic_4.pptx - Google スライド.html\n",
      "G:\\マイドライブ\\バックアップ(OneDrive)\\Onenote\\素材\\機械学習と人工知能\\HTML\\AI-08-pic_4.pptx - Google スライド.html\n",
      "G:\\マイドライブ\\バックアップ(OneDrive)\\Onenote\\素材\\機械学習と人工知能\\HTML\\AI-13-pic_10.pptx - Google スライド.html\n",
      "G:\\マイドライブ\\バックアップ(OneDrive)\\Onenote\\素材\\機械学習と人工知能\\HTML\\AI-13-pic_9.pptx - Google スライド.html\n",
      "G:\\マイドライブ\\バックアップ(OneDrive)\\Onenote\\素材\\機械学習と人工知能\\HTML\\AI-13-pic_7.pptx - Google スライド.html\n",
      "G:\\マイドライブ\\バックアップ(OneDrive)\\Onenote\\素材\\機械学習と人工知能\\HTML\\AI-13-pic_6.pptx - Google スライド.html\n",
      "G:\\マイドライブ\\バックアップ(OneDrive)\\Onenote\\素材\\機械学習と人工知能\\HTML\\AI-11-pic_6.pptx - Google スライド.html\n",
      "G:\\マイドライブ\\バックアップ(OneDrive)\\Onenote\\素材\\機械学習と人工知能\\HTML\\AI-12-pic_4.pptx - Google スライド.html\n",
      "G:\\マイドライブ\\バックアップ(OneDrive)\\Onenote\\素材\\機械学習と人工知能\\HTML\\AI-13-pic_3.pptx - Google スライド.html\n",
      "G:\\マイドライブ\\バックアップ(OneDrive)\\Onenote\\素材\\機械学習と人工知能\\HTML\\AI-10-pic_3.pptx - Google スライド.html\n",
      "G:\\マイドライブ\\バックアップ(OneDrive)\\Onenote\\素材\\機械学習と人工知能\\HTML\\AI-12-pic_7.pptx - Google スライド.html\n",
      "G:\\マイドライブ\\バックアップ(OneDrive)\\Onenote\\素材\\機械学習と人工知能\\HTML\\AI-13-pic_5.pptx - Google スライド.html\n",
      "G:\\マイドライブ\\バックアップ(OneDrive)\\Onenote\\素材\\機械学習と人工知能\\HTML\\AI-13-pic_4.pptx - Google スライド.html\n",
      "G:\\マイドライブ\\バックアップ(OneDrive)\\Onenote\\素材\\機械学習と人工知能\\HTML\\AI-11-pic_4.pptx - Google スライド.html\n",
      "G:\\マイドライブ\\バックアップ(OneDrive)\\Onenote\\素材\\機械学習と人工知能\\HTML\\AI-12-pic_6.pptx - Google スライド.html\n",
      "G:\\マイドライブ\\バックアップ(OneDrive)\\Onenote\\素材\\機械学習と人工知能\\HTML\\AI-12-pic_3.pptx - Google スライド.html\n",
      "G:\\マイドライブ\\バックアップ(OneDrive)\\Onenote\\素材\\機械学習と人工知能\\HTML\\AI-09-pic_3.pptx - Google スライド.html\n",
      "G:\\マイドライブ\\バックアップ(OneDrive)\\Onenote\\素材\\機械学習と人工知能\\HTML\\AI-11-pic_3.pptx - Google スライド.html\n",
      "G:\\マイドライブ\\バックアップ(OneDrive)\\Onenote\\素材\\機械学習と人工知能\\HTML\\AI-11-pic_5.pptx - Google スライド.html\n",
      "G:\\マイドライブ\\バックアップ(OneDrive)\\Onenote\\素材\\機械学習と人工知能\\HTML\\AI-10-pic_7.pptx - Google スライド.html\n",
      "G:\\マイドライブ\\バックアップ(OneDrive)\\Onenote\\素材\\機械学習と人工知能\\HTML\\AI-10-pic_6.pptx - Google スライド.html\n",
      "G:\\マイドライブ\\バックアップ(OneDrive)\\Onenote\\素材\\機械学習と人工知能\\HTML\\AI-09-pic_6.pptx - Google スライド.html\n",
      "G:\\マイドライブ\\バックアップ(OneDrive)\\Onenote\\素材\\機械学習と人工知能\\HTML\\AI-09-pic_4.pptx - Google スライド.html\n",
      "G:\\マイドライブ\\バックアップ(OneDrive)\\Onenote\\素材\\機械学習と人工知能\\HTML\\AI-11-pic_8.pptx - Google スライド.html\n",
      "G:\\マイドライブ\\バックアップ(OneDrive)\\Onenote\\素材\\機械学習と人工知能\\HTML\\AI-09-pic_7.pptx - Google スライド.html\n",
      "G:\\マイドライブ\\バックアップ(OneDrive)\\Onenote\\素材\\機械学習と人工知能\\HTML\\AI-08-pic_6.pptx - Google スライド.html\n",
      "G:\\マイドライブ\\バックアップ(OneDrive)\\Onenote\\素材\\機械学習と人工知能\\HTML\\AI-08-pic_3.pptx - Google スライド.html\n",
      "G:\\マイドライブ\\バックアップ(OneDrive)\\Onenote\\素材\\機械学習と人工知能\\HTML\\AI-08-pic_7.pptx - Google スライド.html\n"
     ]
    }
   ],
   "source": [
    "target_dir = r\"G:\\マイドライブ\\バックアップ(OneDrive)\\Onenote\\素材\\機械学習と人工知能\"\n",
    "\n",
    "file_pat = '*.html'\n",
    "dir_pat = os.path.join(target_dir, '*')\n",
    "\n",
    "html_files = []  # 修正：HTMLファイルのパスのリストを保存するためのリストを作成\n",
    "for d in glob.glob(dir_pat):  # for-loop of directories in target_dir\n",
    "    if os.path.isdir(d):  # if it is a directory\n",
    "        full_pat = os.path.join(d, file_pat)  # generate full path name for HTML files\n",
    "        for file in glob.glob(full_pat):  # for-loop of HTML files\n",
    "            html_files.append(file)  # HTMLファイルのパスをリストに追加\n",
    "\n",
    "for file in html_files:  # HTMLファイルのパスのリストを表示\n",
    "    print(file)"
   ]
  },
  {
   "cell_type": "code",
   "execution_count": 3,
   "metadata": {},
   "outputs": [],
   "source": [
    "options = ChromeOptions()\n",
    "# headless mode ON\n",
    "options.add_argument('--headless')\n",
    "\n",
    "# Create WebDriver object of Chrome\n",
    "driver = Chrome(options=options)\n",
    "\n",
    "#スクショ保存ディレクトリが存在しなければ生成\n",
    "screenshot_dir = os.path.join(target_dir, 'スクリーンショット')\n",
    "if not os.path.exists(screenshot_dir):\n",
    "    os.mkdir(screenshot_dir)\n",
    "    \n",
    "for file in html_files:\n",
    "    driver.get(f\"file:///{file}\")\n",
    "    \n",
    "    #保存する画像ファイル名\n",
    "    fname = os.path.basename(file).replace(\".pptx - Google スライド.html\", \"\")\n",
    "\n",
    "    #ウインドウサイズをWebサイトに合わせて変更　※全画面用\n",
    "    width = driver.execute_script(\"return document.body.scrollWidth;\")\n",
    "    height = driver.execute_script(\"return document.body.scrollHeight;\")\n",
    "    driver.set_window_size(width,height)\n",
    "\n",
    "    #スクショをPNG形式で保存\n",
    "    driver.get_screenshot_as_file(os.path.join(screenshot_dir, fname + \".png\"))"
   ]
  },
  {
   "cell_type": "markdown",
   "metadata": {},
   "source": [
    "##### Quit browser  "
   ]
  },
  {
   "cell_type": "code",
   "execution_count": 4,
   "metadata": {},
   "outputs": [],
   "source": [
    "driver.quit()"
   ]
  },
  {
   "cell_type": "code",
   "execution_count": 5,
   "metadata": {},
   "outputs": [
    {
     "name": "stdout",
     "output_type": "stream",
     "text": [
      "G:\\マイドライブ\\バックアップ(OneDrive)\\Onenote\\素材\\機械学習と人工知能\\スクリーンショット\n"
     ]
    }
   ],
   "source": [
    "print(screenshot_dir)"
   ]
  }
 ],
 "metadata": {
  "kernelspec": {
   "display_name": "Python 3 (ipykernel)",
   "language": "python",
   "name": "python3"
  },
  "language_info": {
   "codemirror_mode": {
    "name": "ipython",
    "version": 3
   },
   "file_extension": ".py",
   "mimetype": "text/x-python",
   "name": "python",
   "nbconvert_exporter": "python",
   "pygments_lexer": "ipython3",
   "version": "3.9.15"
  }
 },
 "nbformat": 4,
 "nbformat_minor": 4
}
